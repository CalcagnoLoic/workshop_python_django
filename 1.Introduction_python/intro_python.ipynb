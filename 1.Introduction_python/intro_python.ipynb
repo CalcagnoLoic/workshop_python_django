{
 "cells": [
  {
   "cell_type": "markdown",
   "source": [
    "# Exercices sur Python"
   ],
   "metadata": {
    "collapsed": false,
    "pycharm": {
     "name": "#%% md\n"
    }
   }
  },
  {
   "cell_type": "markdown",
   "source": [
    "1. Ecrivez une fonction `fizzbuzz` prenant en paramètre un nombre. La fonction doit respectée les conditions suivantes :\n",
    "    * Si le nombre est divisible par 3, la fonction retourne `fizz`\n",
    "    * Si le nombre est divisible par 5, la fonction retourne `buzz`\n",
    "    * Si le nombre est divisible par 3 et 5, la fonction retourne `fizzbuzz`\n",
    "    * Si le nombre ne respecte pas les conditions, la fonction retourne juste le nombre"
   ],
   "metadata": {
    "collapsed": false,
    "pycharm": {
     "name": "#%% md\n"
    }
   }
  },
  {
   "cell_type": "code",
   "execution_count": null,
   "outputs": [],
   "source": [],
   "metadata": {
    "collapsed": false,
    "pycharm": {
     "name": "#%%\n"
    }
   }
  },
  {
   "cell_type": "markdown",
   "source": [
    "2. Écrivez un programme pour afficher tous les nombres naturels de 1 à n en utilisant la boucle for et while."
   ],
   "metadata": {
    "collapsed": false,
    "pycharm": {
     "name": "#%% md\n"
    }
   }
  },
  {
   "cell_type": "code",
   "execution_count": null,
   "outputs": [],
   "source": [],
   "metadata": {
    "collapsed": false,
    "pycharm": {
     "name": "#%%\n"
    }
   }
  },
  {
   "cell_type": "markdown",
   "source": [
    "3. Écrivez une fonction Python pour additionner tous les nombres d'une liste."
   ],
   "metadata": {
    "collapsed": false,
    "pycharm": {
     "name": "#%% md\n"
    }
   }
  },
  {
   "cell_type": "code",
   "execution_count": null,
   "outputs": [],
   "source": [],
   "metadata": {
    "collapsed": false,
    "pycharm": {
     "name": "#%%\n"
    }
   }
  },
  {
   "cell_type": "markdown",
   "source": [
    "4. Ecrivez un programme d'arrêt d'activité. Tout d'abord, définissez une fonction, shut_down, qui prend un argument s.\n",
    "    * Si l'argument s reçoit \"yes\", la fonction retourne `Shutting down`\n",
    "    * Si l'argument s reçoit \"no\", la fonction retourne `Shutdown aborted`\n",
    "    * Si l'argument s reçoit autre chose, la fonction retourne `Sorry`"
   ],
   "metadata": {
    "collapsed": false,
    "pycharm": {
     "name": "#%% md\n"
    }
   }
  },
  {
   "cell_type": "code",
   "execution_count": null,
   "outputs": [],
   "source": [],
   "metadata": {
    "collapsed": false,
    "pycharm": {
     "name": "#%%\n"
    }
   }
  }
 ],
 "metadata": {
  "kernelspec": {
   "display_name": "Python 3",
   "language": "python",
   "name": "python3"
  },
  "language_info": {
   "codemirror_mode": {
    "name": "ipython",
    "version": 2
   },
   "file_extension": ".py",
   "mimetype": "text/x-python",
   "name": "python",
   "nbconvert_exporter": "python",
   "pygments_lexer": "ipython2",
   "version": "2.7.6"
  }
 },
 "nbformat": 4,
 "nbformat_minor": 0
}