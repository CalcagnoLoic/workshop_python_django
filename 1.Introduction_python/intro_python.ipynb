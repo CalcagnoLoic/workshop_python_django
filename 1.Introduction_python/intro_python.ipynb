{
 "cells": [
  {
   "cell_type": "markdown",
   "source": [
    "# Exercices sur Python"
   ],
   "metadata": {
    "collapsed": false,
    "pycharm": {
     "name": "#%% md\n"
    }
   }
  },
  {
   "cell_type": "markdown",
   "source": [
    "## 1. Les boucles"
   ],
   "metadata": {
    "collapsed": false,
    "pycharm": {
     "name": "#%% md\n"
    }
   }
  },
  {
   "cell_type": "markdown",
   "source": [
    "1. Écrivez un programme pour afficher tous les nombres naturels pairs de 1 à 15 en utilisant la boucle for. Indice : Vous pouvez utiliser la fonction range()"
   ],
   "metadata": {
    "collapsed": false,
    "pycharm": {
     "name": "#%% md\n"
    }
   }
  },
  {
   "cell_type": "code",
   "execution_count": null,
   "outputs": [],
   "source": [],
   "metadata": {
    "collapsed": false,
    "pycharm": {
     "name": "#%%\n"
    }
   }
  },
  {
   "cell_type": "markdown",
   "source": [
    "2. Même exercice mais les nombres naturels impairs de 1 à 15 avec une boucle while."
   ],
   "metadata": {
    "collapsed": false,
    "pycharm": {
     "name": "#%% md\n"
    }
   }
  },
  {
   "cell_type": "code",
   "execution_count": null,
   "outputs": [],
   "source": [],
   "metadata": {
    "collapsed": false,
    "pycharm": {
     "name": "#%%\n"
    }
   }
  },
  {
   "cell_type": "markdown",
   "source": [
    "## 2. Les fonctions"
   ],
   "metadata": {
    "collapsed": false,
    "pycharm": {
     "name": "#%% md\n"
    }
   }
  },
  {
   "cell_type": "markdown",
   "source": [
    "3. Ecrivez une fonction `fizzbuzz` prenant en paramètre un nombre. La fonction doit respectée les conditions suivantes :\n",
    "    * Si le nombre est divisible par 3 et 5, la fonction retourne `fizzbuzz`\n",
    "    * Si le nombre est divisible par 5, la fonction retourne `buzz`\n",
    "    * Si le nombre est divisible par 3, la fonction retourne `fizz`\n",
    "    * Si le nombre ne respecte pas les conditions, la fonction retourne juste le nombre"
   ],
   "metadata": {
    "collapsed": false,
    "pycharm": {
     "name": "#%% md\n"
    }
   }
  },
  {
   "cell_type": "code",
   "execution_count": null,
   "outputs": [],
   "source": [],
   "metadata": {
    "collapsed": false,
    "pycharm": {
     "name": "#%%\n"
    }
   }
  },
  {
   "cell_type": "markdown",
   "source": [
    "4. Écrivez une fonction Python pour additionner tous les nombres d'une liste."
   ],
   "metadata": {
    "collapsed": false,
    "pycharm": {
     "name": "#%% md\n"
    }
   }
  },
  {
   "cell_type": "code",
   "execution_count": null,
   "outputs": [],
   "source": [],
   "metadata": {
    "collapsed": false,
    "pycharm": {
     "name": "#%%\n"
    }
   }
  },
  {
   "cell_type": "markdown",
   "source": [
    "5. Ecrivez un programme d'arrêt d'activité. Tout d'abord, définissez une fonction, shut_down, qui prend un argument s.\n",
    "    * Si l'argument s reçoit \"yes\", la fonction retourne `Shutting down`\n",
    "    * Si l'argument s reçoit \"no\", la fonction retourne `Shutdown aborted`\n",
    "    * Si l'argument s reçoit autre chose, la fonction retourne `Sorry`"
   ],
   "metadata": {
    "collapsed": false,
    "pycharm": {
     "name": "#%% md\n"
    }
   }
  },
  {
   "cell_type": "code",
   "execution_count": null,
   "outputs": [],
   "source": [],
   "metadata": {
    "collapsed": false,
    "pycharm": {
     "name": "#%%\n"
    }
   }
  },
  {
   "cell_type": "markdown",
   "source": [
    "## 3. Les classes\n",
    "\n",
    "6. Créez une classe `Présentation` prenant 3 paramètres lors de l'instanciation :\n",
    "- L'âge de la personne\n",
    "- Le prénom de la personne\n",
    "- Le pays où habite la personne\n",
    "\n",
    "A la suite de cela, créez une méthode getter permettant d'afficher tout simplement une phrase du style `Bonjour, je m'appelle {prénom}, bienvenue à BeCode!`"
   ],
   "metadata": {
    "collapsed": false,
    "pycharm": {
     "name": "#%% md\n"
    }
   }
  },
  {
   "cell_type": "code",
   "execution_count": null,
   "outputs": [],
   "source": [],
   "metadata": {
    "collapsed": false,
    "pycharm": {
     "name": "#%%\n"
    }
   }
  },
  {
   "cell_type": "markdown",
   "source": [
    "7. Créez une classe `PrésentationComplète` héritant de la classe que vous avez créez précédemment. Dans cette nouvelle classe, vous devez créer une méthode getter permettant d'afficher ce message : `Bonjour, je m'appelle {prénom}, j'ai {age} ans et j'habite en {pays}.`"
   ],
   "metadata": {
    "collapsed": false,
    "pycharm": {
     "name": "#%% md\n"
    }
   }
  },
  {
   "cell_type": "code",
   "execution_count": null,
   "outputs": [],
   "source": [],
   "metadata": {
    "collapsed": false,
    "pycharm": {
     "name": "#%%\n"
    }
   }
  },
  {
   "cell_type": "markdown",
   "source": [
    "## 4. L'importation de modules\n",
    "\n",
    "8. Dans le package math, vous pouvez retrouver le nombre Pi. A l'aide de la documentation sur cette fonction built-in `round()`, arrondissez le nombre pi à 3 chiffres après la virgule."
   ],
   "metadata": {
    "collapsed": false,
    "pycharm": {
     "name": "#%% md\n"
    }
   }
  },
  {
   "cell_type": "code",
   "execution_count": null,
   "outputs": [],
   "source": [],
   "metadata": {
    "collapsed": false,
    "pycharm": {
     "name": "#%%\n"
    }
   }
  },
  {
   "cell_type": "markdown",
   "source": [
    "[En route vers Django](https://github.com/CalcagnoLoic/workshop_python/blob/main/2.Framework_django/0.intro_django.md)"
   ],
   "metadata": {
    "collapsed": false,
    "pycharm": {
     "name": "#%% md\n"
    }
   }
  }
 ],
 "metadata": {
  "kernelspec": {
   "display_name": "Python 3",
   "language": "python",
   "name": "python3"
  },
  "language_info": {
   "codemirror_mode": {
    "name": "ipython",
    "version": 2
   },
   "file_extension": ".py",
   "mimetype": "text/x-python",
   "name": "python",
   "nbconvert_exporter": "python",
   "pygments_lexer": "ipython2",
   "version": "2.7.6"
  }
 },
 "nbformat": 4,
 "nbformat_minor": 0
}
