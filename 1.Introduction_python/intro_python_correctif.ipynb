{
 "cells": [
  {
   "cell_type": "markdown",
   "metadata": {
    "collapsed": false,
    "pycharm": {
     "name": "#%% md\n"
    }
   },
   "source": [
    "# Exercices sur Python"
   ]
  },
  {
   "cell_type": "markdown",
   "metadata": {
    "collapsed": false,
    "pycharm": {
     "name": "#%% md\n"
    }
   },
   "source": [
    "## 1. Les boucles"
   ]
  },
  {
   "cell_type": "markdown",
   "metadata": {
    "collapsed": false,
    "pycharm": {
     "name": "#%% md\n"
    }
   },
   "source": [
    "1. Écrivez un programme pour afficher tous les nombres naturels pairs de 1 à 15 en utilisant la boucle for."
   ]
  },
  {
   "cell_type": "code",
   "execution_count": 22,
   "metadata": {
    "collapsed": false,
    "pycharm": {
     "name": "#%%\n"
    }
   },
   "outputs": [
    {
     "name": "stdout",
     "output_type": "stream",
     "text": [
      "2\n",
      "4\n",
      "6\n",
      "8\n",
      "10\n",
      "12\n",
      "14\n"
     ]
    }
   ],
   "source": [
    "x = range(1,16)\n",
    "\n",
    "for i in x:\n",
    "    if i % 2 == 0:\n",
    "        print(i)"
   ]
  },
  {
   "cell_type": "markdown",
   "metadata": {
    "collapsed": false,
    "pycharm": {
     "name": "#%% md\n"
    }
   },
   "source": [
    "2. Même exercice mais les nombres naturels impairs de 1 à 15 avec une boucle while."
   ]
  },
  {
   "cell_type": "code",
   "execution_count": 51,
   "metadata": {},
   "outputs": [
    {
     "name": "stdout",
     "output_type": "stream",
     "text": [
      "1\n",
      "3\n",
      "5\n",
      "7\n",
      "9\n",
      "11\n",
      "13\n",
      "15\n"
     ]
    }
   ],
   "source": [
    "x = 0\n",
    "while x < 15:\n",
    "    x += 1\n",
    "    if x % 2 == 1:\n",
    "        print(x)"
   ]
  },
  {
   "cell_type": "markdown",
   "metadata": {
    "collapsed": false,
    "pycharm": {
     "name": "#%% md\n"
    }
   },
   "source": [
    "## 2. Les fonctions"
   ]
  },
  {
   "cell_type": "markdown",
   "metadata": {
    "collapsed": false,
    "pycharm": {
     "name": "#%% md\n"
    }
   },
   "source": [
    "3. Ecrivez une fonction `fizzbuzz` prenant en paramètre un nombre. La fonction doit respectée les conditions suivantes :\n",
    "    * Si le nombre est divisible par 3 et 5, la fonction retourne `fizzbuzz`\n",
    "    * Si le nombre est divisible par 3, la fonction retourne `fizz`\n",
    "    * Si le nombre est divisible par 5, la fonction retourne `buzz`\n",
    "    * Si le nombre ne respecte pas les conditions, la fonction retourne juste le nombre"
   ]
  },
  {
   "cell_type": "code",
   "execution_count": 4,
   "metadata": {
    "collapsed": false,
    "pycharm": {
     "name": "#%%\n"
    }
   },
   "outputs": [
    {
     "name": "stdout",
     "output_type": "stream",
     "text": [
      "fizz\n",
      "buzz\n",
      "fizzbuzz\n",
      "2\n"
     ]
    }
   ],
   "source": [
    "def fizzbuzz(a):\n",
    "    if (a % 3 == 0 and a % 5 == 0):\n",
    "        print('fizzbuzz')\n",
    "    elif a % 5 == 0:\n",
    "        print('buzz')\n",
    "    elif a % 3 == 0:\n",
    "        print('fizz')\n",
    "    else:\n",
    "        print(a)\n",
    "\n",
    "fizzbuzz(3)\n",
    "fizzbuzz(5)\n",
    "fizzbuzz(15)\n",
    "fizzbuzz(2)"
   ]
  },
  {
   "cell_type": "markdown",
   "metadata": {
    "collapsed": false,
    "pycharm": {
     "name": "#%% md\n"
    }
   },
   "source": [
    "4. Écrivez une fonction Python pour additionner tous les nombres d'une liste."
   ]
  },
  {
   "cell_type": "code",
   "execution_count": 43,
   "metadata": {
    "collapsed": false,
    "pycharm": {
     "name": "#%%\n"
    }
   },
   "outputs": [
    {
     "data": {
      "text/plain": [
       "6"
      ]
     },
     "execution_count": 43,
     "metadata": {},
     "output_type": "execute_result"
    }
   ],
   "source": [
    "liste = [1,2,3]\n",
    "\n",
    "\n",
    "def sumlist(x):\n",
    "    sum = 0\n",
    "    for i in x:\n",
    "        sum += i\n",
    "    return sum\n",
    "\n",
    "\n",
    "sumlist(liste)"
   ]
  },
  {
   "cell_type": "markdown",
   "metadata": {
    "collapsed": false,
    "pycharm": {
     "name": "#%% md\n"
    }
   },
   "source": [
    "5. Ecrivez un programme d'arrêt d'activité. Tout d'abord, définissez une fonction, shut_down, qui prend un argument s.\n",
    "    * Si l'argument s reçoit \"yes\", la fonction retourne `Shutting down`\n",
    "    * Si l'argument s reçoit \"no\", la fonction retourne `Shutdown aborted`\n",
    "    * Si l'argument s reçoit autre chose, la fonction retourne `Sorry`"
   ]
  },
  {
   "cell_type": "code",
   "execution_count": 48,
   "metadata": {
    "collapsed": false,
    "pycharm": {
     "name": "#%%\n"
    }
   },
   "outputs": [
    {
     "name": "stdout",
     "output_type": "stream",
     "text": [
      "Shutting Down\n",
      "Shutting aborted\n",
      "Sorry\n"
     ]
    }
   ],
   "source": [
    "def shut_down(s):\n",
    "    if s == \"yes\":\n",
    "        print(\"Shutting Down\")\n",
    "    elif s == \"no\":\n",
    "        print(\"Shutting aborted\")\n",
    "    else:\n",
    "        print(\"Sorry\")\n",
    "\n",
    "shut_down(\"yes\")\n",
    "shut_down(\"no\")\n",
    "shut_down(\"maybe\")"
   ]
  },
  {
   "cell_type": "markdown",
   "metadata": {
    "collapsed": false,
    "pycharm": {
     "name": "#%% md\n"
    }
   },
   "source": [
    "## 3. Les classes\n",
    "\n",
    "6. Créez une classe `Présentation` prenant 3 paramètres lors de l'instanciation :\n",
    "- L'âge de la personne\n",
    "- Le prénom de la personne\n",
    "- Le pays où habite la personne\n",
    "\n",
    "A la suite de cela, créez une méthode getter permettant d'afficher tout simplement une phrase du style `Bonjour, je m'appelle {prénom}, bienvenue à BeCode!`"
   ]
  },
  {
   "cell_type": "code",
   "execution_count": 13,
   "metadata": {
    "collapsed": false,
    "pycharm": {
     "name": "#%%\n"
    }
   },
   "outputs": [
    {
     "name": "stdout",
     "output_type": "stream",
     "text": [
      "Bonjour, je m'appelle Albert , bienvenue à BeCode!\n"
     ]
    }
   ],
   "source": [
    "class Présentation():\n",
    "    def __init__(self, prenom, age, pays):\n",
    "        self.prenom = prenom\n",
    "        self.age = age\n",
    "        self.pays = pays\n",
    "    \n",
    "    def SetMessage(self):\n",
    "        print(\"Bonjour, je m'appelle\", self.prenom, \", bienvenue à BeCode!\")\n",
    "\n",
    "coach = Présentation('Albert', 27, 'Belgique')\n",
    "coach.SetMessage()"
   ]
  },
  {
   "cell_type": "markdown",
   "metadata": {
    "collapsed": false,
    "pycharm": {
     "name": "#%% md\n"
    }
   },
   "source": [
    "7. Créez une classe `PrésentationComplète` héritant de la classe que vous avez créez précédemment. Dans cette nouvelle classe, vous devez créer une méthode getter permettant d'afficher ce message : `Bonjour, je m'appelle {prénom}, j'ai {age} ans et j'habite en {pays}.`"
   ]
  },
  {
   "cell_type": "code",
   "execution_count": 14,
   "metadata": {
    "collapsed": false,
    "pycharm": {
     "name": "#%%\n"
    }
   },
   "outputs": [
    {
     "name": "stdout",
     "output_type": "stream",
     "text": [
      "Bonjour, je m'appelle Albert , j'ai  27  ans et j'habite en  Belgique\n"
     ]
    }
   ],
   "source": [
    "class PrésentationComplète(Présentation):\n",
    "    def SetMessageComplet(self):\n",
    "        print(\"Bonjour, je m'appelle\", self.prenom, \", j'ai \", self.age, \" ans et j'habite en \", self.pays)\n",
    "\n",
    "coach = PrésentationComplète('Albert', 27, 'Belgique')\n",
    "coach.SetMessageComplet()"
   ]
  },
  {
   "cell_type": "markdown",
   "metadata": {
    "collapsed": false,
    "pycharm": {
     "name": "#%% md\n"
    }
   },
   "source": [
    "## 4. L'importation de modules\n",
    "\n",
    "8. Dans le package map, vous pouvez retrouver le nombre Pi. A l'aide de la documentation sur cette fonction built-in, arrondissez le nombre pi à 3 chiffres après la virgule."
   ]
  },
  {
   "cell_type": "code",
   "execution_count": 3,
   "metadata": {
    "collapsed": false,
    "pycharm": {
     "name": "#%%\n"
    }
   },
   "outputs": [
    {
     "data": {
      "text/plain": [
       "3.142"
      ]
     },
     "execution_count": 3,
     "metadata": {},
     "output_type": "execute_result"
    }
   ],
   "source": [
    "from math import pi\n",
    "\n",
    "round(pi, 3)"
   ]
  },
  {
   "cell_type": "markdown",
   "metadata": {
    "collapsed": false,
    "pycharm": {
     "name": "#%% md\n"
    }
   },
   "source": [
    "[En route vers Django](https://github.com/CalcagnoLoic/workshop_python/blob/main/2.Framework_django/0.intro_django.md)"
   ]
  }
 ],
 "metadata": {
  "kernelspec": {
   "display_name": "Python 3.9.7 ('base')",
   "language": "python",
   "name": "python3"
  },
  "language_info": {
   "codemirror_mode": {
    "name": "ipython",
    "version": 3
   },
   "file_extension": ".py",
   "mimetype": "text/x-python",
   "name": "python",
   "nbconvert_exporter": "python",
   "pygments_lexer": "ipython3",
   "version": "3.9.7"
  },
  "vscode": {
   "interpreter": {
    "hash": "518df85176dc903001e240dfab35f20deafd1fca3124599f5bbdfe0886f12d17"
   }
  }
 },
 "nbformat": 4,
 "nbformat_minor": 0
}
